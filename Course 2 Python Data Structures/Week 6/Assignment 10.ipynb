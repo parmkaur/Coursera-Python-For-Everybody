{
 "cells": [
  {
   "cell_type": "markdown",
   "metadata": {},
   "source": [
    "## Write a program to read through the mbox-short.txt and figure out the distribution by hour of the day for each of the messages. You can pull the hour out from the 'From ' line by finding the time and then splitting the string a second time using a colon.\n",
    "From stephen.marquard@uct.ac.za Sat Jan  5 09:14:16 2008\n",
    "\n",
    "Once you have accumulated the counts for each hour, print out the counts, sorted by hour as shown below."
   ]
  },
  {
   "cell_type": "code",
   "execution_count": 1,
   "metadata": {},
   "outputs": [
    {
     "name": "stdout",
     "output_type": "stream",
     "text": [
      "Enter file:mbox-short.txt\n",
      "04 3\n",
      "06 1\n",
      "07 1\n",
      "09 2\n",
      "10 3\n",
      "11 6\n",
      "14 1\n",
      "15 2\n",
      "16 4\n",
      "17 2\n",
      "18 1\n",
      "19 1\n"
     ]
    }
   ],
   "source": [
    "name = input(\"Enter file:\")\n",
    "if len(name) < 1 : name = \"mbox-short.txt\"\n",
    "handle = open(name)\n",
    "count={}\n",
    "for line in handle:\n",
    "     if line.startswith(\"From:\"): continue\n",
    "     if not line.startswith(\"From\") : continue\n",
    "     start = line.find(\"From\")\n",
    "     end = line.find(\"2008\")\n",
    "     lst = line[start:end]\n",
    "     e = lst.rstrip().split()\n",
    "     time = e[5]\n",
    "     hour = time.split(\":\")\n",
    "     hour.pop(1)\n",
    "     hour.pop(1)\n",
    " \n",
    "     for words in hour:\n",
    "         count[words] = count.get(words,0) + 1\n",
    "lst=[]\n",
    "for key,val in count.items():\n",
    "    newtup = (key,val)\n",
    "    lst.append(newtup)\n",
    "    \n",
    "lst = sorted(lst)\n",
    "\n",
    "for key,val in lst:\n",
    "    print(key,val)"
   ]
  },
  {
   "cell_type": "code",
   "execution_count": null,
   "metadata": {},
   "outputs": [],
   "source": []
  }
 ],
 "metadata": {
  "kernelspec": {
   "display_name": "Python 3",
   "language": "python",
   "name": "python3"
  },
  "language_info": {
   "codemirror_mode": {
    "name": "ipython",
    "version": 3
   },
   "file_extension": ".py",
   "mimetype": "text/x-python",
   "name": "python",
   "nbconvert_exporter": "python",
   "pygments_lexer": "ipython3",
   "version": "3.7.6"
  }
 },
 "nbformat": 4,
 "nbformat_minor": 4
}
