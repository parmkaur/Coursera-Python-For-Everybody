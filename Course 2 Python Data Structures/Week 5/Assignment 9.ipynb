{
 "cells": [
  {
   "cell_type": "markdown",
   "metadata": {},
   "source": [
    "## Write a program to read through the mbox-short.txt and figure out who has sent the greatest number of mail messages. \n",
    "\n",
    "The program looks for 'From ' lines and takes the second word of those lines as the person who sent the mail. \n",
    "\n",
    "The program creates a Python dictionary that maps the sender's mail address to a count of the number of times they appear in the file. After the dictionary is produced, the program reads through the dictionary using a maximum loop to find the most prolific committer."
   ]
  },
  {
   "cell_type": "code",
   "execution_count": 3,
   "metadata": {},
   "outputs": [
    {
     "name": "stdout",
     "output_type": "stream",
     "text": [
      "Enter file:mbox-short.txt\n",
      "cwen@iupui.edu 5\n"
     ]
    }
   ],
   "source": [
    "name = input(\"Enter file:\")\n",
    "if len(name) < 1 : name = \"mbox-short.txt\"\n",
    "handle = open(name)\n",
    "count = {}\n",
    "for line in handle:\n",
    "     if not line.startswith(\"From:\") : continue\n",
    "     start = line.find(\"From:\")\n",
    "     end = line.find(\"2008\")\n",
    "     lst = line[start:end]\n",
    "     e = lst.rstrip().split()\n",
    "     e.pop(0)\n",
    "     for word in e:\n",
    "                count[word] = count.get(word,0) + 1\n",
    "            \n",
    "     \n",
    "bigword=None\n",
    "bigcount=None\n",
    "\n",
    "for word,count in count.items():\n",
    "    if bigword is None or count > bigcount:\n",
    "        bigword = word\n",
    "        bigcount = count\n",
    "print(bigword,bigcount)\n"
   ]
  },
  {
   "cell_type": "code",
   "execution_count": null,
   "metadata": {},
   "outputs": [],
   "source": []
  }
 ],
 "metadata": {
  "kernelspec": {
   "display_name": "Python 3",
   "language": "python",
   "name": "python3"
  },
  "language_info": {
   "codemirror_mode": {
    "name": "ipython",
    "version": 3
   },
   "file_extension": ".py",
   "mimetype": "text/x-python",
   "name": "python",
   "nbconvert_exporter": "python",
   "pygments_lexer": "ipython3",
   "version": "3.7.6"
  }
 },
 "nbformat": 4,
 "nbformat_minor": 4
}
