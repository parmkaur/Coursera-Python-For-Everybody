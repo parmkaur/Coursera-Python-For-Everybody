{
 "cells": [
  {
   "cell_type": "markdown",
   "metadata": {},
   "source": [
    "## Write a program to prompt for a score between 0.0 and 1.0. If the score is out of range, print an error. If the score is between 0.0 and 1.0, print a grade using the following table:\n",
    "Score Grade: >= 0.9 A,\n",
    "             >= 0.8 B,\n",
    "             >= 0.7 C,\n",
    "             >= 0.6 D,\n",
    "             < 0.6 F\n",
    "\n",
    "If the user enters a value out of range, print a suitable error message and exit. For the test, enter a score of 0.85."
   ]
  },
  {
   "cell_type": "code",
   "execution_count": 1,
   "metadata": {},
   "outputs": [
    {
     "name": "stdout",
     "output_type": "stream",
     "text": [
      "Enter Score: 0.85\n",
      "B\n"
     ]
    }
   ],
   "source": [
    "score = input(\"Enter Score: \")\n",
    "try:\n",
    "    s = float(score)\n",
    "except:\n",
    "    s=-1\n",
    "        \n",
    "if(s==-1):\n",
    "     print('please enter a number')\n",
    "elif(s>=0.9):\n",
    "     print('A')\n",
    "elif(s>=0.8):\n",
    "     print('B')\n",
    "elif(s>=0.7):\n",
    "     print('C')\n",
    "elif(s>=0.6):\n",
    "     print('D')\n",
    "elif(s<0.6):\n",
    "     print('F')"
   ]
  },
  {
   "cell_type": "code",
   "execution_count": null,
   "metadata": {},
   "outputs": [],
   "source": []
  }
 ],
 "metadata": {
  "kernelspec": {
   "display_name": "Python 3",
   "language": "python",
   "name": "python3"
  },
  "language_info": {
   "codemirror_mode": {
    "name": "ipython",
    "version": 3
   },
   "file_extension": ".py",
   "mimetype": "text/x-python",
   "name": "python",
   "nbconvert_exporter": "python",
   "pygments_lexer": "ipython3",
   "version": "3.7.6"
  }
 },
 "nbformat": 4,
 "nbformat_minor": 4
}
